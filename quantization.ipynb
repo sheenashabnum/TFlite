{
 "cells": [
  {
   "cell_type": "markdown",
   "metadata": {},
   "source": [
    "<h2 style=\"color:blue\" align=\"center\">Quantization Tutorial</h2>"
   ]
  },
  {
   "cell_type": "markdown",
   "metadata": {},
   "source": [
    "Quantization is a technique to downsize a trained model so that you can deploy it on EDGE devices. In this tutorial we will,\n",
    "\n",
    "(1) Train a hand written digits model\n",
    "\n",
    "(2) Export to a disk and check the size of that model\n",
    "\n",
    "(3) Use two techniques for quantization (1) post training quantization (3) quantization aware training"
   ]
  },
  {
   "cell_type": "code",
   "execution_count": 1,
   "metadata": {},
   "outputs": [],
   "source": [
    "import tensorflow as tf\n",
    "from tensorflow import keras\n",
    "import matplotlib.pyplot as plt\n",
    "%matplotlib inline\n",
    "import numpy as np"
   ]
  },
  {
   "cell_type": "code",
   "execution_count": 2,
   "metadata": {},
   "outputs": [],
   "source": [
    "(X_train, y_train) , (X_test, y_test) = keras.datasets.mnist.load_data()"
   ]
  },
  {
   "cell_type": "code",
   "execution_count": 3,
   "metadata": {},
   "outputs": [
    {
     "data": {
      "text/plain": [
       "60000"
      ]
     },
     "execution_count": 3,
     "metadata": {},
     "output_type": "execute_result"
    }
   ],
   "source": [
    "len(X_train)"
   ]
  },
  {
   "cell_type": "code",
   "execution_count": 4,
   "metadata": {},
   "outputs": [
    {
     "data": {
      "text/plain": [
       "10000"
      ]
     },
     "execution_count": 4,
     "metadata": {},
     "output_type": "execute_result"
    }
   ],
   "source": [
    "len(X_test)"
   ]
  },
  {
   "cell_type": "code",
   "execution_count": 5,
   "metadata": {},
   "outputs": [
    {
     "data": {
      "text/plain": [
       "(28, 28)"
      ]
     },
     "execution_count": 5,
     "metadata": {},
     "output_type": "execute_result"
    }
   ],
   "source": [
    "X_train[0].shape"
   ]
  },
  {
   "cell_type": "code",
   "execution_count": 6,
   "metadata": {},
   "outputs": [
    {
     "data": {
      "text/plain": [
       "<matplotlib.image.AxesImage at 0x29edf941d60>"
      ]
     },
     "execution_count": 6,
     "metadata": {},
     "output_type": "execute_result"
    },
    {
     "data": {
      "image/png": "[encoded data removed]",
      "text/plain": [
       "<Figure size 480x480 with 1 Axes>"
      ]
     },
     "metadata": {},
     "output_type": "display_data"
    }
   ],
   "source": [
    "plt.matshow(X_train[0])"
   ]
  },
  {
   "cell_type": "code",
   "execution_count": 7,
   "metadata": {},
   "outputs": [
    {
     "data": {
      "text/plain": [
       "5"
      ]
     },
     "execution_count": 7,
     "metadata": {},
     "output_type": "execute_result"
    }
   ],
   "source": [
    "y_train[0]"
   ]
  },
  {
   "cell_type": "code",
   "execution_count": 8,
   "metadata": {},
   "outputs": [],
   "source": [
    "X_train = X_train / 255\n",
    "X_test = X_test / 255"
   ]
  },
  {
   "cell_type": "code",
   "execution_count": 9,
   "metadata": {},
   "outputs": [],
   "source": [
    "X_train_flattened = X_train.reshape(len(X_train), 28*28)\n",
    "X_test_flattened = X_test.reshape(len(X_test), 28*28)"
   ]
  },
  {
   "cell_type": "code",
   "execution_count": 10,
   "metadata": {},
   "outputs": [
    {
     "data": {
      "text/plain": [
       "(60000, 784)"
      ]
     },
     "execution_count": 10,
     "metadata": {},
     "output_type": "execute_result"
    }
   ],
   "source": [
    "X_train_flattened.shape"
   ]
  },
  {
   "cell_type": "markdown",
   "metadata": {},
   "source": [
    "<h3 style='color:purple'>Using Flatten layer so that we don't have to call .reshape on input dataset</h3>"
   ]
  },
  {
   "cell_type": "code",
   "execution_count": 11,
   "metadata": {
    "scrolled": true
   },
   "outputs": [
    {
     "name": "stdout",
     "output_type": "stream",
     "text": [
      "Epoch 1/5\n",
      "1875/1875 [==============================] - 4s 2ms/step - loss: 0.2808 - accuracy: 0.9214\n",
      "Epoch 2/5\n",
      "1875/1875 [==============================] - 3s 2ms/step - loss: 0.1263 - accuracy: 0.9627\n",
      "Epoch 3/5\n",
      "1875/1875 [==============================] - 3s 2ms/step - loss: 0.0885 - accuracy: 0.9739\n",
      "Epoch 4/5\n",
      "1875/1875 [==============================] - 3s 2ms/step - loss: 0.0678 - accuracy: 0.9796\n",
      "Epoch 5/5\n",
      "1875/1875 [==============================] - 3s 2ms/step - loss: 0.0538 - accuracy: 0.9831\n"
     ]
    },
    {
     "data": {
      "text/plain": [
       "<keras.callbacks.History at 0x29edc6cdac0>"
      ]
     },
     "execution_count": 11,
     "metadata": {},
     "output_type": "execute_result"
    }
   ],
   "source": [
    "model = keras.Sequential([\n",
    "    keras.layers.Flatten(input_shape=(28, 28)),\n",
    "    keras.layers.Dense(100, activation='relu'),\n",
    "    keras.layers.Dense(10, activation='sigmoid')\n",
    "])\n",
    "\n",
    "model.compile(optimizer='adam',\n",
    "              loss='sparse_categorical_crossentropy',\n",
    "              metrics=['accuracy'])\n",
    "\n",
    "model.fit(X_train, y_train, epochs=5)"
   ]
  },
  {
   "cell_type": "code",
   "execution_count": 12,
   "metadata": {},
   "outputs": [
    {
     "name": "stdout",
     "output_type": "stream",
     "text": [
      "Model: \"sequential\"\n",
      "_________________________________________________________________\n",
      " Layer (type)                Output Shape              Param #   \n",
      "=================================================================\n",
      " flatten (Flatten)           (None, 784)               0         \n",
      "                                                                 \n",
      " dense (Dense)               (None, 100)               78500     \n",
      "                                                                 \n",
      " dense_1 (Dense)             (None, 10)                1010      \n",
      "                                                                 \n",
      "=================================================================\n",
      "Total params: 79,510\n",
      "Trainable params: 79,510\n",
      "Non-trainable params: 0\n",
      "_________________________________________________________________\n"
     ]
    }
   ],
   "source": [
    "model.summary()"
   ]
  },
  {
   "cell_type": "code",
   "execution_count": 13,
   "metadata": {},
   "outputs": [
    {
     "data": {
      "text/plain": [
       "array([[ 0.03551323,  0.07205738, -0.00551635, ..., -0.00673267,\n",
       "         0.07582687,  0.05140695],\n",
       "       [-0.00253781,  0.00380775, -0.06281307, ..., -0.00389622,\n",
       "        -0.06231561,  0.00699098],\n",
       "       [ 0.01974262, -0.0502142 , -0.0587194 , ...,  0.03821955,\n",
       "         0.05993047,  0.06951742],\n",
       "       ...,\n",
       "       [-0.00325365,  0.04189916,  0.05681551, ...,  0.01053508,\n",
       "        -0.05365919,  0.00018546],\n",
       "       [ 0.07825789, -0.05191392, -0.04977319, ..., -0.07328358,\n",
       "         0.04017652, -0.01779457],\n",
       "       [-0.07287844, -0.00841371,  0.07772815, ..., -0.02686696,\n",
       "         0.07986695,  0.01971756]], dtype=float32)"
      ]
     },
     "execution_count": 13,
     "metadata": {},
     "output_type": "execute_result"
    }
   ],
   "source": [
    "model.get_weights()[0]"
   ]
  },
  {
   "cell_type": "code",
   "execution_count": 14,
   "metadata": {},
   "outputs": [
    {
     "name": "stdout",
     "output_type": "stream",
     "text": [
      "float32\n"
     ]
    }
   ],
   "source": [
    "print(model.get_weights()[0].dtype)"
   ]
  },
  {
   "cell_type": "code",
   "execution_count": 15,
   "metadata": {},
   "outputs": [
    {
     "name": "stdout",
     "output_type": "stream",
     "text": [
      "313/313 [==============================] - 1s 1ms/step - loss: 0.0820 - accuracy: 0.9751\n"
     ]
    },
    {
     "data": {
      "text/plain": [
       "[0.08198968321084976, 0.9750999808311462]"
      ]
     },
     "execution_count": 15,
     "metadata": {},
     "output_type": "execute_result"
    }
   ],
   "source": [
    "model.evaluate(X_test,y_test)"
   ]
  },
  {
   "cell_type": "code",
   "execution_count": 16,
   "metadata": {},
   "outputs": [],
   "source": [
    "model.save(\"model.h5\")"
   ]
  },
  {
   "cell_type": "code",
   "execution_count": 17,
   "metadata": {},
   "outputs": [
    {
     "name": "stdout",
     "output_type": "stream",
     "text": [
      "INFO:tensorflow:Assets written to: ./saved_model/assets\n"
     ]
    }
   ],
   "source": [
    "model.save(\"./saved_model/\")"
   ]
  },
  {
   "cell_type": "markdown",
   "metadata": {},
   "source": [
    "<h3 style='color:blue'>(1) Post training quantization</h3>"
   ]
  },
  {
   "cell_type": "markdown",
   "metadata": {},
   "source": [
    "**Without quantization**"
   ]
  },
  {
   "cell_type": "code",
   "execution_count": 18,
   "metadata": {},
   "outputs": [],
   "source": [
    "converter = tf.lite.TFLiteConverter.from_saved_model(\"./saved_model\")\n",
    "# converter\n",
    "tflite_model = converter.convert()\n",
    "# tflite_model"
   ]
  },
  {
   "cell_type": "code",
   "execution_count": 19,
   "metadata": {},
   "outputs": [
    {
     "name": "stdout",
     "output_type": "stream",
     "text": [
      "Input details:\n",
      "[{'name': 'serving_default_flatten_input:0', 'index': 0, 'shape': array([ 1, 28, 28]), 'shape_signature': array([-1, 28, 28]), 'dtype': <class 'numpy.float32'>, 'quantization': (0.0, 0), 'quantization_parameters': {'scales': array([], dtype=float32), 'zero_points': array([], dtype=int32), 'quantized_dimension': 0}, 'sparsity_parameters': {}}]\n",
      "\n",
      "Output details:\n",
      "[{'name': 'StatefulPartitionedCall:0', 'index': 9, 'shape': array([ 1, 10]), 'shape_signature': array([-1, 10]), 'dtype': <class 'numpy.float32'>, 'quantization': (0.0, 0), 'quantization_parameters': {'scales': array([], dtype=float32), 'zero_points': array([], dtype=int32), 'quantized_dimension': 0}, 'sparsity_parameters': {}}]\n"
     ]
    }
   ],
   "source": [
    "\n",
    "interpreter = tf.lite.Interpreter(model_content=tflite_model)\n",
    "interpreter.allocate_tensors()\n",
    "\n",
    "\n",
    "input_details = interpreter.get_input_details()\n",
    "output_details = interpreter.get_output_details()\n",
    "\n",
    "print(\"Input details:\")\n",
    "print(input_details)\n",
    "\n",
    "print(\"\\nOutput details:\")\n",
    "print(output_details)\n",
    "\n",
    "\n",
    "# # Define a function to get layer outputs\n",
    "# def get_layer_output(interpreter, layer_index, input_data):\n",
    "#     interpreter.set_tensor(input_details[0]['index'], input_data)\n",
    "#     interpreter.invoke()\n",
    "#     layer_output = interpreter.get_tensor(output_details[layer_index]['index'])\n",
    "#     return layer_output\n"
   ]
  },
  {
   "cell_type": "markdown",
   "metadata": {},
   "source": [
    "**With quantization**"
   ]
  },
  {
   "cell_type": "code",
   "execution_count": 20,
   "metadata": {},
   "outputs": [],
   "source": [
    "converter = tf.lite.TFLiteConverter.from_saved_model(\"./saved_model\")\n",
    "converter.optimizations = [tf.lite.Optimize.DEFAULT]\n",
    "tflite_quant_model = converter.convert()"
   ]
  },
  {
   "cell_type": "code",
   "execution_count": 21,
   "metadata": {
    "scrolled": true
   },
   "outputs": [
    {
     "name": "stdout",
     "output_type": "stream",
     "text": [
      "Input details:\n",
      "[{'name': 'serving_default_flatten_input:0', 'index': 0, 'shape': array([ 1, 28, 28]), 'shape_signature': array([-1, 28, 28]), 'dtype': <class 'numpy.float32'>, 'quantization': (0.0, 0), 'quantization_parameters': {'scales': array([], dtype=float32), 'zero_points': array([], dtype=int32), 'quantized_dimension': 0}, 'sparsity_parameters': {}}]\n",
      "\n",
      "Output details:\n",
      "[{'name': 'StatefulPartitionedCall:0', 'index': 9, 'shape': array([ 1, 10]), 'shape_signature': array([-1, 10]), 'dtype': <class 'numpy.float32'>, 'quantization': (0.0, 0), 'quantization_parameters': {'scales': array([], dtype=float32), 'zero_points': array([], dtype=int32), 'quantized_dimension': 0}, 'sparsity_parameters': {}}]\n"
     ]
    }
   ],
   "source": [
    "import tensorflow as tf\n",
    "\n",
    "\n",
    "interpreter = tf.lite.Interpreter(model_content=tflite_quant_model)\n",
    "interpreter.allocate_tensors()\n",
    "\n",
    "input_details = interpreter.get_input_details()\n",
    "output_details = interpreter.get_output_details()\n",
    "\n",
    "print(\"Input details:\")\n",
    "print(input_details)\n",
    "\n",
    "print(\"\\nOutput details:\")\n",
    "print(output_details)\n",
    "\n",
    "# print(\"\\nModel Summary:\")\n",
    "# print(interpreter)\n",
    "\n",
    "\n",
    "\n",
    "# # Define a function to get layer outputs\n",
    "# def get_layer_output(interpreter, layer_index, input_data):\n",
    "#     interpreter.set_tensor(input_details[0]['index'], input_data)\n",
    "#     interpreter.invoke()\n",
    "#     layer_output = interpreter.get_tensor(output_details[layer_index]['index'])\n",
    "#     return layer_output\n",
    "\n",
    "# input_data = np.random.rand(1, 28, 28).astype(np.float32)\n",
    "# layer_index = 0  # Index of the layer you want to inspect\n",
    "# layer_output = get_layer_output(interpreter, layer_index, input_data)\n",
    "# print(f\"\\nOutput of layer {layer_index}:\")\n",
    "# print(layer_output.dtype)\n"
   ]
  },
  {
   "cell_type": "markdown",
   "metadata": {},
   "source": [
    "Read this article for post training quantization: https://www.tensorflow.org/model_optimization/guide/quantization/post_training"
   ]
  },
  {
   "cell_type": "code",
   "execution_count": 22,
   "metadata": {},
   "outputs": [
    {
     "data": {
      "text/plain": [
       "320004"
      ]
     },
     "execution_count": 22,
     "metadata": {},
     "output_type": "execute_result"
    }
   ],
   "source": [
    "len(tflite_model)#320kb"
   ]
  },
  {
   "cell_type": "code",
   "execution_count": 23,
   "metadata": {
    "scrolled": true
   },
   "outputs": [
    {
     "data": {
      "text/plain": [
       "84880"
      ]
     },
     "execution_count": 23,
     "metadata": {},
     "output_type": "execute_result"
    }
   ],
   "source": [
    "len(tflite_quant_model)"
   ]
  },
  {
   "cell_type": "markdown",
   "metadata": {},
   "source": [
    "You can see above that quantizated model is 1/4th the size of a non quantized model"
   ]
  },
  {
   "cell_type": "code",
   "execution_count": 24,
   "metadata": {},
   "outputs": [],
   "source": [
    "with open(\"tflite_model.tflite\", \"wb\") as f:\n",
    "    f.write(tflite_model)"
   ]
  },
  {
   "cell_type": "code",
   "execution_count": 25,
   "metadata": {},
   "outputs": [],
   "source": [
    "with open(\"tflite_quant_model.tflite\", \"wb\") as f:\n",
    "    f.write(tflite_quant_model)"
   ]
  },
  {
   "cell_type": "markdown",
   "metadata": {},
   "source": [
    "Once you have above files saved to a disk, check their sizes. Quantized model will be obvi"
   ]
  },
  {
   "cell_type": "markdown",
   "metadata": {},
   "source": [
    "<h3 style='color:blue'>(2) Quantization aware training</h3>"
   ]
  },
  {
   "cell_type": "code",
   "execution_count": 26,
   "metadata": {},
   "outputs": [
    {
     "name": "stdout",
     "output_type": "stream",
     "text": [
      "Model: \"sequential\"\n",
      "_________________________________________________________________\n",
      " Layer (type)                Output Shape              Param #   \n",
      "=================================================================\n",
      " quantize_layer (QuantizeLay  (None, 28, 28)           3         \n",
      " er)                                                             \n",
      "                                                                 \n",
      " quant_flatten (QuantizeWrap  (None, 784)              1         \n",
      " perV2)                                                          \n",
      "                                                                 \n",
      " quant_dense (QuantizeWrappe  (None, 100)              78505     \n",
      " rV2)                                                            \n",
      "                                                                 \n",
      " quant_dense_1 (QuantizeWrap  (None, 10)               1015      \n",
      " perV2)                                                          \n",
      "                                                                 \n",
      "=================================================================\n",
      "Total params: 79,524\n",
      "Trainable params: 79,510\n",
      "Non-trainable params: 14\n",
      "_________________________________________________________________\n"
     ]
    }
   ],
   "source": [
    "import tensorflow_model_optimization as tfmot\n",
    "\n",
    "quantize_model = tfmot.quantization.keras.quantize_model\n",
    "\n",
    "# q_aware stands for for quantization aware.\n",
    "q_aware_model = quantize_model(model)\n",
    "\n",
    "# `quantize_model` requires a recompile.\n",
    "q_aware_model.compile(optimizer='adam',\n",
    "              loss='sparse_categorical_crossentropy',\n",
    "              metrics=['accuracy'])\n",
    "\n",
    "q_aware_model.summary()"
   ]
  },
  {
   "cell_type": "code",
   "execution_count": 27,
   "metadata": {},
   "outputs": [
    {
     "name": "stdout",
     "output_type": "stream",
     "text": [
      "1875/1875 [==============================] - 5s 3ms/step - loss: 0.0453 - accuracy: 0.9857\n"
     ]
    },
    {
     "data": {
      "text/plain": [
       "<keras.callbacks.History at 0x29ede980100>"
      ]
     },
     "execution_count": 27,
     "metadata": {},
     "output_type": "execute_result"
    }
   ],
   "source": [
    "q_aware_model.fit(X_train, y_train, epochs=1)"
   ]
  },
  {
   "cell_type": "code",
   "execution_count": 28,
   "metadata": {},
   "outputs": [
    {
     "name": "stdout",
     "output_type": "stream",
     "text": [
      "313/313 [==============================] - 1s 2ms/step - loss: 0.0901 - accuracy: 0.9729\n"
     ]
    },
    {
     "data": {
      "text/plain": [
       "[0.09009992331266403, 0.9728999733924866]"
      ]
     },
     "execution_count": 28,
     "metadata": {},
     "output_type": "execute_result"
    }
   ],
   "source": [
    "q_aware_model.evaluate(X_test, y_test)"
   ]
  },
  {
   "cell_type": "code",
   "execution_count": 29,
   "metadata": {},
   "outputs": [
    {
     "data": {
      "text/plain": [
       "[0.0,\n",
       " 1.0,\n",
       " -1,\n",
       " -1,\n",
       " array([[ 0.03551323,  0.07205738, -0.00551635, ..., -0.00673267,\n",
       "          0.07582687,  0.05140695],\n",
       "        [-0.00253781,  0.00380775, -0.06281307, ..., -0.00389622,\n",
       "         -0.06231561,  0.00699098],\n",
       "        [ 0.01974262, -0.0502142 , -0.0587194 , ...,  0.03821955,\n",
       "          0.05993047,  0.06951742],\n",
       "        ...,\n",
       "        [-0.00325365,  0.04189916,  0.05681551, ...,  0.01053508,\n",
       "         -0.05365919,  0.00018546],\n",
       "        [ 0.07825789, -0.05191392, -0.04977319, ..., -0.07328358,\n",
       "          0.04017652, -0.01779457],\n",
       "        [-0.07287844, -0.00841371,  0.07772815, ..., -0.02686696,\n",
       "          0.07986695,  0.01971756]], dtype=float32),\n",
       " array([-1.53231295e-02,  3.14675242e-01,  2.02553142e-02,  1.87296674e-01,\n",
       "         3.23992781e-03,  1.43422663e-01,  9.52560380e-02,  6.43453151e-02,\n",
       "        -3.60461026e-02, -3.56415324e-02,  9.67305005e-02,  8.20069946e-03,\n",
       "         2.66190637e-02, -1.70875296e-01, -1.00338869e-01, -3.80557915e-03,\n",
       "        -1.08046763e-01, -1.15480840e-01,  1.73287280e-02, -4.65741009e-02,\n",
       "        -2.03470159e-02, -7.57080838e-02, -2.94943899e-02,  5.37715368e-02,\n",
       "         3.71602066e-02,  1.13368496e-01,  7.69886449e-02, -1.45576790e-01,\n",
       "        -5.79639822e-02,  5.80294477e-03, -6.98193023e-03,  1.04460612e-01,\n",
       "         1.25374481e-01,  1.57791167e-01, -1.33895516e-01, -1.77557711e-02,\n",
       "         3.14847589e-03, -1.30525142e-01,  3.91515829e-02,  1.53162464e-01,\n",
       "         3.84655409e-02,  3.84288393e-02,  7.84672275e-02,  1.29770979e-01,\n",
       "         2.70463321e-02,  1.14612177e-01,  8.25516060e-02,  2.75727734e-02,\n",
       "        -7.37006590e-03, -1.34188950e-01, -1.33933857e-01, -1.61747672e-02,\n",
       "        -3.90739329e-02,  4.23600748e-02,  5.94490357e-02,  4.90323752e-02,\n",
       "         2.87844297e-02,  4.96000657e-03, -5.57621866e-02, -4.81105559e-02,\n",
       "         5.75424992e-02,  1.05898149e-01, -7.48531222e-02, -2.36181766e-02,\n",
       "         1.35673374e-01, -1.01543017e-01, -2.69594286e-02,  1.93561018e-01,\n",
       "         1.20266676e-01,  8.01697024e-06,  7.36566857e-02,  2.51291633e-01,\n",
       "         2.49463096e-02,  1.64477929e-01, -8.05222690e-02,  1.79549642e-02,\n",
       "        -1.80485640e-02, -8.40178430e-02,  9.62566510e-02,  2.61296891e-02,\n",
       "         7.33656064e-02,  3.15443501e-02,  1.21770710e-01,  1.15880720e-01,\n",
       "        -5.51660098e-02, -7.13640675e-02, -1.66587979e-01,  6.28895238e-02,\n",
       "         4.83802147e-02, -9.08134952e-02,  1.04414530e-01,  1.00735515e-01,\n",
       "         2.25281417e-01, -1.03952505e-01, -1.34570505e-02,  7.22482055e-02,\n",
       "         9.58359241e-02,  9.69263688e-02,  3.72869112e-02,  9.84843075e-02],\n",
       "       dtype=float32),\n",
       " -1,\n",
       " -0.90564966,\n",
       " 0.90564966,\n",
       " -0.9192663,\n",
       " 10.013642,\n",
       " array([[-9.64035094e-02,  9.96721350e-03, -5.97000569e-02,\n",
       "          1.42895386e-01, -5.43486178e-02, -3.40657644e-02,\n",
       "          1.47400245e-01, -8.00058618e-02,  2.10490406e-01,\n",
       "          2.61170324e-02],\n",
       "        [ 1.36729367e-02,  2.63595700e-01,  2.03025997e-01,\n",
       "         -2.57561386e-01, -9.88727342e-03,  4.56176728e-01,\n",
       "         -7.42803156e-01,  1.82526540e-02, -5.09593964e-01,\n",
       "         -2.90546156e-02],\n",
       "        [ 3.07862282e-01, -1.41499132e-01,  3.04643214e-01,\n",
       "         -1.52487919e-01,  1.76173478e-01, -3.09628457e-01,\n",
       "         -3.64698201e-01,  2.37597182e-01, -1.98483691e-01,\n",
       "         -2.39967421e-01],\n",
       "        [-3.05677921e-01,  1.57702953e-01, -3.43479574e-01,\n",
       "         -3.57395440e-01, -1.01918630e-01,  7.40899295e-02,\n",
       "         -3.27718794e-01,  9.98760834e-02,  2.81907946e-01,\n",
       "          3.36465389e-01],\n",
       "        [-9.26390067e-02, -3.60586852e-01, -1.08316533e-01,\n",
       "          3.06166917e-01,  4.55055088e-02,  3.17252308e-01,\n",
       "         -5.98018050e-01, -5.85032284e-01, -3.53339553e-01,\n",
       "          2.56155312e-01],\n",
       "        [-6.46493435e-01,  5.07250071e-01, -1.01169199e-01,\n",
       "         -6.11501873e-01,  2.92616725e-01, -3.68950993e-01,\n",
       "         -1.45957649e-01,  6.05264962e-01, -1.88031584e-01,\n",
       "         -5.89079142e-01],\n",
       "        [-3.77289683e-01,  2.07568765e-01, -2.09620833e-01,\n",
       "         -1.43499494e-01, -9.34309721e-01,  3.15724403e-01,\n",
       "          4.03518289e-01, -1.24485921e-02, -1.30185902e-01,\n",
       "         -2.93669462e-01],\n",
       "        [-3.58532906e-01, -3.07384193e-01, -2.36876801e-01,\n",
       "          5.41348569e-02, -1.84869964e-03,  6.76451176e-02,\n",
       "         -4.73152846e-01, -7.87400156e-02,  2.18468904e-01,\n",
       "          1.87438920e-01],\n",
       "        [-7.24057248e-03,  2.71443814e-01, -3.80580783e-01,\n",
       "         -4.81303185e-02,  3.39336365e-01, -3.30262363e-01,\n",
       "         -3.92185867e-01,  1.43961325e-01, -3.01784277e-01,\n",
       "          3.28343421e-01],\n",
       "        [ 1.00773744e-01, -1.48987219e-01,  2.42810458e-01,\n",
       "          1.70620680e-02,  1.98261440e-01, -7.08745718e-01,\n",
       "         -3.74135226e-01,  2.15155005e-01, -1.05521001e-01,\n",
       "          2.65072316e-01],\n",
       "        [ 1.54548019e-01, -6.70213252e-02,  5.27623147e-02,\n",
       "         -2.75247656e-02, -2.04257339e-01, -1.01728588e-01,\n",
       "         -3.84251289e-02, -2.97469884e-01,  2.07231328e-01,\n",
       "         -1.36790633e-01],\n",
       "        [ 1.38323784e-01, -1.08335026e-01, -8.53681192e-02,\n",
       "          2.49819294e-01, -7.17634082e-01,  3.89225453e-01,\n",
       "         -5.03795385e-01, -5.96811891e-01, -6.85222745e-01,\n",
       "          3.75652239e-02],\n",
       "        [-2.88722694e-01, -3.60855609e-02,  8.24793354e-02,\n",
       "         -5.84072053e-01,  4.16319519e-01, -4.30829972e-01,\n",
       "         -2.71013945e-01, -2.26124097e-02, -1.06958675e+00,\n",
       "          3.34806472e-01],\n",
       "        [-2.04264417e-01,  2.82970697e-01, -2.46267855e-01,\n",
       "          2.29999021e-01,  4.29004073e-01, -3.10567677e-01,\n",
       "          3.86331081e-01,  1.38172973e-02, -5.13305783e-01,\n",
       "         -7.64057517e-01],\n",
       "        [-5.01833782e-02, -4.27790493e-01, -1.66418955e-01,\n",
       "          1.46756828e-01, -2.94037133e-01, -1.10750265e-01,\n",
       "         -4.65366125e-01,  1.61034688e-01,  9.15924311e-02,\n",
       "          6.07628487e-02],\n",
       "        [-7.85716236e-01, -1.83510572e-01, -2.14542836e-01,\n",
       "         -5.77265508e-02,  3.54421765e-01, -1.68673754e-01,\n",
       "         -6.11931920e-01,  9.56334770e-02,  1.60976663e-01,\n",
       "          2.79403571e-03],\n",
       "        [-6.43379629e-01, -3.05057049e-01,  2.56560326e-01,\n",
       "          4.62982178e-01, -8.05237412e-01, -4.47554529e-01,\n",
       "         -5.20937517e-02,  5.99538505e-01, -4.21159953e-01,\n",
       "         -7.25506365e-01],\n",
       "        [ 2.80936480e-01,  3.31690103e-01, -4.09530103e-01,\n",
       "         -1.23485424e-01,  2.31009185e-01, -4.09574151e-01,\n",
       "          7.95870572e-02,  2.43496850e-01, -4.12773192e-01,\n",
       "          6.68416470e-02],\n",
       "        [ 3.07587892e-01,  1.77159220e-01,  7.35352933e-02,\n",
       "         -5.51303446e-01, -8.50123912e-02, -3.20300162e-01,\n",
       "         -2.14584783e-01, -3.11504662e-01,  2.95305550e-01,\n",
       "         -3.69314790e-01],\n",
       "        [ 1.99381560e-01, -3.83663774e-01, -6.39117181e-01,\n",
       "         -4.91329692e-02,  3.00238252e-01,  1.47402868e-01,\n",
       "          3.20408419e-02,  2.70872474e-01, -5.82975388e-01,\n",
       "          2.08514377e-01],\n",
       "        [ 2.60851290e-02, -2.09278136e-01,  1.65660396e-01,\n",
       "          9.86656826e-03, -6.79873452e-02, -1.16048820e-01,\n",
       "          1.12472832e-01, -1.32939458e-01, -2.85394844e-02,\n",
       "         -1.33559629e-01],\n",
       "        [-3.87229782e-04,  1.44140184e-01, -1.06093086e-01,\n",
       "         -4.83763590e-02, -7.61846676e-02, -8.68523866e-02,\n",
       "          2.03656122e-01,  6.24190643e-02,  2.19181016e-01,\n",
       "         -8.34427714e-01],\n",
       "        [-3.03600673e-02,  3.50905433e-02,  1.26303896e-01,\n",
       "          1.48717225e-01,  2.29779654e-03,  3.20745409e-02,\n",
       "         -2.86610991e-01, -1.62660778e-01, -1.64433531e-02,\n",
       "          1.24889739e-01],\n",
       "        [ 1.23802491e-01, -4.05641824e-01, -3.90376002e-01,\n",
       "         -3.00366655e-02, -3.49285662e-01, -2.40928039e-01,\n",
       "          2.36934647e-01, -3.89847726e-01,  1.17817754e-02,\n",
       "          4.06836063e-01],\n",
       "        [ 2.41936788e-01,  2.37399533e-01, -1.11942083e-01,\n",
       "         -4.03292775e-01, -4.57986891e-01, -3.30569208e-01,\n",
       "         -1.14428706e-01,  1.76785305e-01,  3.24738733e-02,\n",
       "          9.24208481e-03],\n",
       "        [ 2.08449468e-01, -7.21113384e-02, -1.88500986e-01,\n",
       "          8.57254863e-02, -1.14344217e-01,  3.88520837e-01,\n",
       "         -6.01996839e-01,  2.21286103e-01, -4.86930579e-01,\n",
       "          1.69082835e-01],\n",
       "        [ 1.96798086e-01, -3.77538472e-01, -6.77535892e-01,\n",
       "         -1.00429185e-01,  2.10197985e-01,  2.98384458e-01,\n",
       "          3.55486840e-01, -1.86458528e-01, -2.71531772e-02,\n",
       "         -1.16526634e-01],\n",
       "        [ 1.48263454e-01,  1.25100866e-01,  3.22943747e-01,\n",
       "          1.81314453e-01, -4.70826983e-01, -6.03941858e-01,\n",
       "         -9.39223349e-01,  3.15707535e-01, -6.41429052e-02,\n",
       "          6.48094937e-02],\n",
       "        [ 1.99764207e-01,  2.94753760e-01, -4.54592615e-01,\n",
       "         -5.79218149e-01,  2.15429798e-01, -3.16852510e-01,\n",
       "          4.13677663e-01,  1.48126064e-03, -4.45301980e-01,\n",
       "         -4.16621119e-02],\n",
       "        [-5.80499530e-01,  1.73573766e-03, -4.76076275e-01,\n",
       "         -8.70445743e-02, -1.78783953e-01,  6.62395284e-02,\n",
       "         -1.84569567e-01,  9.40211266e-02,  1.63902959e-03,\n",
       "         -1.14100337e-01],\n",
       "        [-9.70404670e-02, -5.37420027e-02,  2.27841362e-01,\n",
       "          2.16795821e-02, -1.03587769e-01, -5.42613387e-01,\n",
       "         -2.21008137e-01, -3.77273895e-02,  1.81396142e-01,\n",
       "          1.75418407e-01],\n",
       "        [-2.73227125e-01,  1.88978955e-01,  1.95346922e-01,\n",
       "          7.68705783e-03, -1.03458434e-01,  8.20429921e-02,\n",
       "          2.04211310e-01, -1.73270956e-01, -3.55686508e-02,\n",
       "         -7.54425764e-01],\n",
       "        [-4.38962609e-01,  8.72065648e-02,  3.97463627e-02,\n",
       "          1.18822709e-01,  1.72272455e-02,  1.67637706e-01,\n",
       "          5.20171709e-02, -6.04917228e-01,  3.34595181e-02,\n",
       "         -1.57705750e-02],\n",
       "        [-4.42185044e-01, -5.06940722e-01,  1.47951052e-01,\n",
       "         -2.87276834e-01,  3.75144750e-01,  3.84845406e-01,\n",
       "         -3.97309244e-01, -2.27949247e-02, -1.28201574e-01,\n",
       "         -3.08184326e-01],\n",
       "        [-4.47171360e-01,  2.00799957e-01, -5.41325510e-02,\n",
       "          2.03276932e-01, -2.81039983e-01, -2.31996059e-01,\n",
       "         -7.40865320e-02,  5.11635840e-01, -5.15304744e-01,\n",
       "         -8.29312801e-01],\n",
       "        [-1.11957185e-01, -1.12856589e-01, -1.54652894e-01,\n",
       "          8.41618478e-02, -1.61994278e-01, -2.25280717e-01,\n",
       "         -5.30770272e-02, -1.01477996e-01, -1.73920169e-01,\n",
       "          2.95228157e-02],\n",
       "        [ 4.00066048e-01, -3.97900581e-01, -1.44051865e-01,\n",
       "         -4.75342780e-01,  9.95666534e-02, -3.30036730e-01,\n",
       "          6.48804978e-02, -2.70955235e-01,  2.23042160e-01,\n",
       "          3.67581919e-02],\n",
       "        [ 1.35317728e-01,  4.78832759e-02, -3.58382881e-01,\n",
       "          1.72440290e-01,  2.99036473e-01, -3.39305550e-01,\n",
       "         -2.90684998e-01, -9.30237547e-02,  9.71944183e-02,\n",
       "         -2.23500013e-01],\n",
       "        [-5.81726372e-01, -1.95745796e-01,  1.00427724e-01,\n",
       "         -4.10242118e-02, -8.29537213e-01,  5.73372424e-01,\n",
       "          1.52869690e-02,  7.87199512e-02,  1.27636835e-01,\n",
       "         -9.74406600e-02],\n",
       "        [-1.40633076e-01, -2.70430535e-01, -1.71348527e-02,\n",
       "          1.36941392e-02,  5.56849055e-02,  2.33242974e-01,\n",
       "         -7.90460289e-01,  2.72014380e-01,  9.07575563e-02,\n",
       "          8.03913251e-02],\n",
       "        [-3.49500597e-01,  4.69540469e-02,  1.20563552e-01,\n",
       "          2.57165641e-01, -2.03665361e-01,  7.52965407e-03,\n",
       "         -8.36416930e-02, -2.39815623e-01,  1.47838175e-01,\n",
       "         -1.05323099e-01],\n",
       "        [-6.90399885e-01, -4.07282919e-01, -6.09601140e-01,\n",
       "          3.75298917e-01,  1.86204627e-01,  3.34064335e-01,\n",
       "          1.26888797e-01, -5.06355584e-01, -2.17388660e-01,\n",
       "          2.25980982e-01],\n",
       "        [-3.61691117e-01, -2.19048038e-01,  3.67908180e-01,\n",
       "         -1.75608844e-01, -1.77186295e-01,  2.81899393e-01,\n",
       "          2.48846859e-01,  9.88847613e-02, -1.44787222e-01,\n",
       "         -7.27497339e-01],\n",
       "        [ 1.59917697e-01, -1.43709049e-01,  3.08631837e-01,\n",
       "         -2.02896267e-01,  2.05228791e-01, -4.69741113e-02,\n",
       "         -1.70796931e-01,  1.74431115e-01, -6.05206788e-01,\n",
       "          3.13400716e-01],\n",
       "        [-5.87068312e-02, -4.69927937e-01,  8.11752118e-03,\n",
       "          3.23036283e-01,  5.49547151e-02,  7.73658454e-02,\n",
       "         -6.65986240e-01,  2.29829043e-01,  9.56253801e-03,\n",
       "          2.01465428e-01],\n",
       "        [-3.60576093e-01,  8.08916867e-01, -4.11121905e-01,\n",
       "         -3.36618036e-01,  5.79169214e-01,  1.62415020e-02,\n",
       "         -1.31343707e-01, -1.78298280e-01, -3.16145241e-01,\n",
       "         -8.72310281e-01],\n",
       "        [-2.20231652e-01, -6.28294110e-01, -3.91571343e-01,\n",
       "          1.07962087e-01, -1.02828944e+00,  5.57597995e-01,\n",
       "          8.88457596e-02,  3.81318599e-01, -2.39645556e-01,\n",
       "         -2.18037087e-02],\n",
       "        [ 2.20005214e-01, -2.36427709e-01, -1.22759165e-02,\n",
       "         -1.14555202e-01,  2.15504225e-02, -5.60040772e-02,\n",
       "          2.22567096e-01, -5.70316434e-01, -1.80340827e-01,\n",
       "          2.95260306e-02],\n",
       "        [-8.88281539e-02,  1.80094942e-01,  1.66297540e-01,\n",
       "          5.17356992e-02, -1.39689520e-01, -1.96576610e-01,\n",
       "         -5.47138229e-02, -2.68563360e-01, -1.96822789e-02,\n",
       "          9.30782780e-02],\n",
       "        [-3.65797937e-01, -4.33926165e-01,  1.77440330e-01,\n",
       "          3.36548120e-01, -7.27204233e-02, -3.79467398e-01,\n",
       "         -1.38456449e-01, -3.03975809e-02,  3.46713126e-01,\n",
       "         -4.21211004e-01],\n",
       "        [-4.72636133e-01,  3.91756684e-01, -1.30016848e-01,\n",
       "          2.68221557e-01,  1.57799914e-01, -8.82584214e-01,\n",
       "         -3.35288256e-01,  3.47520530e-01,  6.44001588e-02,\n",
       "         -3.81986380e-01],\n",
       "        [-5.78723371e-01, -7.65557587e-02,  9.60516557e-02,\n",
       "          3.21552247e-01,  3.11163247e-01, -4.78110939e-01,\n",
       "         -5.45578957e-01, -4.64784533e-01,  1.28585875e-01,\n",
       "          6.09042756e-02],\n",
       "        [ 1.76147103e-01, -6.54803753e-01, -2.09044591e-01,\n",
       "         -3.54638636e-01,  1.62317798e-01, -1.13565214e-01,\n",
       "          1.97529897e-01, -1.57362357e-01,  5.55580668e-02,\n",
       "          1.39117211e-01],\n",
       "        [ 3.52890193e-02, -3.72859359e-01, -4.31745574e-02,\n",
       "         -2.40348101e-01, -5.99205732e-01,  2.19878163e-02,\n",
       "         -3.02273691e-01, -2.24709779e-01,  4.46154326e-02,\n",
       "          6.54003993e-02],\n",
       "        [-6.57791197e-01, -6.22810284e-03, -9.17008281e-01,\n",
       "          2.28357062e-01,  4.66889650e-01,  1.17502823e-01,\n",
       "         -1.04288065e+00,  2.25288123e-01, -5.08555949e-01,\n",
       "          2.77506888e-01],\n",
       "        [-6.36808813e-01, -1.44790038e-01, -4.78473783e-01,\n",
       "          8.95740688e-02, -3.40441093e-02,  3.50607067e-01,\n",
       "         -1.47668749e-01, -5.16896367e-01,  2.58083820e-01,\n",
       "          2.19015121e-01],\n",
       "        [-8.76586139e-01,  1.92063227e-01, -2.68504262e-01,\n",
       "          1.55546948e-01,  2.24509567e-01,  5.35590872e-02,\n",
       "         -5.54372013e-01, -4.23502356e-01,  2.45664075e-01,\n",
       "          2.47672752e-01],\n",
       "        [ 1.64374352e-01, -4.42490011e-01,  5.18084690e-02,\n",
       "          8.94862935e-02,  1.09167039e-01, -2.02941559e-02,\n",
       "          4.96972390e-02, -3.18800449e-01,  1.60013676e-01,\n",
       "          1.47486240e-01],\n",
       "        [-8.16470757e-02,  2.24467814e-01, -8.37090909e-01,\n",
       "          2.07804605e-01,  2.11286351e-01, -5.15162706e-01,\n",
       "         -1.34362593e-01,  5.42611927e-02, -1.59841970e-01,\n",
       "          3.96469206e-01],\n",
       "        [ 1.88324749e-01, -1.75161377e-01,  1.84158131e-01,\n",
       "          1.68510288e-01, -4.61892009e-01,  6.81053177e-02,\n",
       "         -1.54383630e-02,  1.03970595e-01,  2.02754036e-01,\n",
       "          1.64226368e-01],\n",
       "        [ 7.47242291e-03, -4.55033422e-01, -2.04022639e-04,\n",
       "         -7.99031258e-01,  4.19177353e-01, -4.27858114e-01,\n",
       "         -3.95884439e-02,  1.72387645e-01, -1.68032840e-01,\n",
       "         -2.00590625e-01],\n",
       "        [ 2.53228515e-01,  1.82832196e-01,  2.03395039e-01,\n",
       "         -1.49424300e-02, -9.77540016e-01,  1.03947304e-01,\n",
       "         -3.81162226e-01,  1.41243905e-01, -3.99690837e-01,\n",
       "         -3.27275604e-01],\n",
       "        [-9.33772027e-02, -3.36763859e-02,  1.08601965e-01,\n",
       "          1.91870466e-01,  4.26548645e-02, -2.57774830e-01,\n",
       "          1.13460101e-01, -2.48177439e-01,  9.75190848e-02,\n",
       "         -2.60220140e-01],\n",
       "        [ 1.31575018e-01, -4.47482526e-01, -2.73004144e-01,\n",
       "          2.49911338e-01, -8.06052983e-02, -2.02612236e-01,\n",
       "          4.09408569e-01,  2.36686245e-01, -3.34212542e-01,\n",
       "          2.54766226e-01],\n",
       "        [-1.16700053e-01, -2.30088398e-01,  4.64114159e-01,\n",
       "         -3.32854152e-01,  1.51748404e-01, -6.14802778e-01,\n",
       "          3.89474630e-01,  2.99227595e-01, -7.61751711e-01,\n",
       "         -1.11242928e-01],\n",
       "        [ 9.81935412e-02, -3.58941019e-01, -2.38546923e-01,\n",
       "          1.84433803e-01, -9.35748033e-03, -5.43930940e-02,\n",
       "         -1.04677163e-01,  2.00495571e-02,  1.94554240e-01,\n",
       "          7.34257251e-02],\n",
       "        [ 5.01068532e-02,  1.83189526e-01,  2.73389608e-01,\n",
       "         -8.03446472e-01,  2.00487390e-01, -7.53625274e-01,\n",
       "         -9.37324017e-02,  1.10295683e-01, -3.73461917e-02,\n",
       "         -2.50250757e-01],\n",
       "        [-4.39871520e-01,  5.60443774e-02,  3.29208851e-01,\n",
       "         -3.41079384e-01, -3.66683185e-01,  1.70946911e-01,\n",
       "          1.74944893e-01, -3.30317885e-01,  8.55476186e-02,\n",
       "          2.94960856e-01],\n",
       "        [-2.14916915e-01, -8.56665850e-01, -1.13597453e-01,\n",
       "         -4.99218315e-01,  4.91354242e-02,  1.22701146e-01,\n",
       "          2.37569481e-01, -2.39980489e-01,  5.63363358e-02,\n",
       "          4.29233611e-02],\n",
       "        [ 8.19942653e-02,  6.61839023e-02,  8.08534846e-02,\n",
       "         -1.29363060e-01, -9.67523679e-02, -1.57365978e-01,\n",
       "          1.37265638e-01, -3.86574268e-01,  4.02782708e-02,\n",
       "         -3.49013597e-01],\n",
       "        [-5.65755293e-02, -1.14716860e-02, -2.15286426e-02,\n",
       "          3.94789577e-02, -4.35322642e-01,  1.89168245e-01,\n",
       "          6.77617416e-02, -4.61285740e-01,  1.23025835e-01,\n",
       "          3.02400850e-02],\n",
       "        [ 2.06087142e-01, -1.06356621e-01, -7.61537313e-01,\n",
       "          1.35626882e-01, -4.36159581e-01,  5.65188527e-01,\n",
       "          4.30245213e-02,  7.72578195e-02, -1.28300503e-01,\n",
       "          1.54758453e-01],\n",
       "        [ 7.40623027e-02, -2.01053873e-01, -1.82274982e-01,\n",
       "         -3.38886529e-01, -2.13946700e-01,  2.61688709e-01,\n",
       "          2.47363716e-01,  8.28593895e-02,  2.79716372e-01,\n",
       "         -2.24717408e-01],\n",
       "        [-4.96034846e-02, -2.27062002e-01,  1.01887271e-01,\n",
       "         -1.06051294e-02,  1.76255092e-01,  7.10054040e-02,\n",
       "         -2.37729967e-01, -1.01336069e-01,  1.58841118e-01,\n",
       "          3.79491709e-02],\n",
       "        [-5.62398434e-01,  1.96057856e-01,  1.45602033e-01,\n",
       "          1.36731744e-01,  1.01396307e-01, -2.12354735e-01,\n",
       "         -3.57369721e-01,  2.80543894e-01, -2.03325763e-01,\n",
       "          1.21788524e-01],\n",
       "        [ 5.14576323e-02, -1.86872378e-01,  1.03049070e-01,\n",
       "         -7.64796615e-01,  2.89457530e-01, -2.24958677e-02,\n",
       "         -3.05406570e-01, -7.53411725e-02,  3.88328344e-01,\n",
       "         -3.83052170e-01],\n",
       "        [ 1.63116738e-01, -4.17763710e-01,  3.27867493e-02,\n",
       "          1.21250942e-01, -2.70883292e-02,  1.03003711e-01,\n",
       "         -2.90118009e-01,  2.49549568e-01, -9.40372702e-03,\n",
       "          1.81105196e-01],\n",
       "        [ 1.82441577e-01, -5.45375107e-04, -2.65977234e-01,\n",
       "          3.83857399e-01,  9.26486868e-03,  1.93556160e-01,\n",
       "         -2.79806674e-01, -3.27625245e-01, -2.01515555e-01,\n",
       "         -8.30160528e-02],\n",
       "        [-7.11203292e-02,  8.38972852e-02,  4.26362485e-01,\n",
       "         -5.39599359e-01,  1.77373901e-01, -9.71129090e-02,\n",
       "          2.45308757e-01,  9.19928849e-02, -5.95425963e-01,\n",
       "          3.27023059e-01],\n",
       "        [ 3.16731244e-01, -2.01241016e-01,  2.95747936e-01,\n",
       "          9.00011808e-02, -6.82376504e-01,  2.18967542e-01,\n",
       "         -1.32495925e-01, -1.16930261e-01,  3.83686721e-02,\n",
       "          6.71409890e-02],\n",
       "        [ 2.75289804e-01,  4.05084133e-01, -2.97830045e-01,\n",
       "         -4.47195172e-01, -1.41963251e-02, -4.70148362e-02,\n",
       "          7.54456967e-02,  2.21244041e-02,  2.87644267e-02,\n",
       "         -1.83355108e-01],\n",
       "        [-4.03923213e-01, -1.28266262e-02,  1.43411085e-01,\n",
       "          4.34093922e-02, -8.95944610e-02, -5.84654622e-02,\n",
       "         -8.04021209e-02,  5.34598641e-02, -2.68750936e-01,\n",
       "         -9.10019040e-01],\n",
       "        [ 1.06869861e-01,  2.60011982e-02,  2.39593998e-01,\n",
       "         -4.72399443e-01,  1.41743556e-01, -1.21497549e-01,\n",
       "          2.10235730e-01,  7.26670995e-02,  2.42871478e-01,\n",
       "         -7.69968212e-01],\n",
       "        [-3.71128649e-01,  6.02029115e-02,  3.22072655e-01,\n",
       "         -3.81249517e-01,  2.18593985e-01, -1.21926412e-01,\n",
       "         -4.68178168e-02, -1.81129709e-01,  8.43089223e-02,\n",
       "          2.37228528e-01],\n",
       "        [-8.77799615e-02, -3.49644348e-02, -2.12770194e-01,\n",
       "          2.24287719e-01, -1.05834030e-01,  1.25236586e-01,\n",
       "          1.84409186e-01, -1.38440579e-02,  3.53567041e-02,\n",
       "          5.34935780e-02],\n",
       "        [ 1.62666738e-01,  1.36896029e-01,  3.44303578e-01,\n",
       "         -4.03575636e-02, -3.06457043e-01, -6.27140105e-01,\n",
       "         -3.04224670e-01,  2.24512309e-01, -6.18401654e-02,\n",
       "          1.84051111e-01],\n",
       "        [-4.93819982e-01,  1.12334661e-01,  2.63836592e-01,\n",
       "          6.04021370e-01, -2.86115438e-01, -2.90589958e-01,\n",
       "         -5.05965412e-01,  1.35150716e-01, -5.95599830e-01,\n",
       "         -4.47713137e-01],\n",
       "        [-1.39231756e-01,  1.22633025e-01, -7.41485655e-01,\n",
       "         -3.56452912e-01,  2.58907348e-01,  2.74392933e-01,\n",
       "          7.73630589e-02, -3.24360788e-01,  1.41102403e-01,\n",
       "         -2.23307967e-01],\n",
       "        [-2.34996498e-01, -2.06055403e-01, -1.90672696e-01,\n",
       "         -1.07064649e-01, -2.88766716e-02, -1.27721071e-01,\n",
       "         -1.88518479e-01,  7.16767237e-02,  2.27646962e-01,\n",
       "          1.22942619e-01],\n",
       "        [ 1.51858494e-01, -8.37723783e-05,  9.39294323e-02,\n",
       "          1.27996355e-01, -2.41028666e-01,  4.34895009e-02,\n",
       "          2.32648671e-01, -5.18053293e-01,  2.27830768e-01,\n",
       "         -5.78820631e-02],\n",
       "        [ 2.24403769e-01, -5.35322905e-01, -1.54389247e-01,\n",
       "          3.66554931e-02, -5.34901679e-01,  1.99214742e-01,\n",
       "          1.30609304e-01,  2.85984337e-01, -1.40216395e-01,\n",
       "         -2.63619035e-01],\n",
       "        [-4.06597376e-01,  1.92428082e-01,  5.94913885e-02,\n",
       "          5.27954280e-01,  2.11729273e-01, -1.50644779e-01,\n",
       "          1.02491111e-01,  3.70098770e-01, -7.79259861e-01,\n",
       "         -7.84420013e-01],\n",
       "        [-6.58326149e-01,  2.64901370e-01,  3.85185570e-01,\n",
       "         -4.53384638e-01,  2.11666487e-02,  2.19417721e-01,\n",
       "          1.21874563e-01, -4.97411281e-01, -5.44937015e-01,\n",
       "         -2.98329771e-01],\n",
       "        [ 1.14768296e-01,  2.68792361e-01, -3.13235223e-01,\n",
       "         -5.05686045e-01,  1.84210941e-01, -1.59276500e-01,\n",
       "          3.26455206e-01, -1.51642546e-01, -4.72435683e-01,\n",
       "         -3.10635995e-02],\n",
       "        [-7.59750009e-01,  1.67624757e-01,  3.83269340e-01,\n",
       "          2.23328039e-01, -5.11232555e-01,  1.85622305e-01,\n",
       "         -3.70491624e-01,  5.84502667e-02,  7.42461905e-02,\n",
       "         -6.66275501e-01],\n",
       "        [-2.87962496e-01, -1.49536043e-01,  1.80497885e-01,\n",
       "          1.20069019e-01, -1.79752693e-01, -7.34231889e-01,\n",
       "          3.54919374e-01,  4.05724011e-02,  1.79228336e-01,\n",
       "          8.66236389e-02],\n",
       "        [-4.29321378e-02,  6.99875712e-01, -3.07225227e-01,\n",
       "         -9.27620113e-01,  4.10057902e-01,  4.26868856e-01,\n",
       "          6.41266629e-02, -4.31784064e-01, -3.38319808e-01,\n",
       "         -8.63209367e-01],\n",
       "        [ 2.45048881e-01,  3.02180797e-01,  5.48128545e-01,\n",
       "          2.05621809e-01, -7.21362904e-02, -9.06927526e-01,\n",
       "         -5.69242418e-01,  1.70100227e-01, -3.13187540e-01,\n",
       "          2.77209640e-01],\n",
       "        [-3.29450577e-01, -4.53090459e-01, -3.14120233e-01,\n",
       "          1.82251427e-02, -8.81714001e-02,  1.72589481e-01,\n",
       "          2.77724028e-01,  9.19317976e-02, -2.15071850e-02,\n",
       "          2.08275333e-01],\n",
       "        [-3.40361267e-01, -2.03864515e-01,  3.95368040e-01,\n",
       "          2.49535650e-01, -7.44715989e-01,  3.26957405e-01,\n",
       "          2.38813266e-01,  1.99264541e-01, -5.08958638e-01,\n",
       "         -8.48969102e-01]], dtype=float32),\n",
       " array([-0.10321856, -0.11719189,  0.11105845, -0.165155  , -0.07154411,\n",
       "         0.17636554, -0.06975421, -0.1336137 ,  0.09848224,  0.01106575],\n",
       "       dtype=float32),\n",
       " -1,\n",
       " -1.0695301,\n",
       " 1.0695301,\n",
       " -24.16056,\n",
       " 14.0024605]"
      ]
     },
     "execution_count": 29,
     "metadata": {},
     "output_type": "execute_result"
    }
   ],
   "source": [
    "q_aware_model.get_weights()"
   ]
  },
  {
   "cell_type": "code",
   "execution_count": 30,
   "metadata": {},
   "outputs": [
    {
     "data": {
      "text/plain": [
       "dtype('float32')"
      ]
     },
     "execution_count": 30,
     "metadata": {},
     "output_type": "execute_result"
    }
   ],
   "source": [
    "q_aware_model.get_weights()[4].dtype"
   ]
  },
  {
   "cell_type": "code",
   "execution_count": 31,
   "metadata": {},
   "outputs": [
    {
     "name": "stderr",
     "output_type": "stream",
     "text": [
      "WARNING:absl:Found untraced functions such as flatten_layer_call_fn, flatten_layer_call_and_return_conditional_losses, dense_layer_call_fn, dense_layer_call_and_return_conditional_losses, dense_1_layer_call_fn while saving (showing 5 of 6). These functions will not be directly callable after loading.\n"
     ]
    },
    {
     "name": "stdout",
     "output_type": "stream",
     "text": [
      "INFO:tensorflow:Assets written to: C:\\Users\\Sheena\\AppData\\Local\\Temp\\tmpzcyppntq\\assets\n"
     ]
    },
    {
     "name": "stderr",
     "output_type": "stream",
     "text": [
      "INFO:tensorflow:Assets written to: C:\\Users\\Sheena\\AppData\\Local\\Temp\\tmpzcyppntq\\assets\n",
      "C:\\Users\\Sheena\\anaconda3\\envs\\q\\lib\\site-packages\\tensorflow\\lite\\python\\convert.py:766: UserWarning: Statistics for quantized inputs were expected, but not specified; continuing anyway.\n",
      "  warnings.warn(\"Statistics for quantized inputs were expected, but not \"\n"
     ]
    }
   ],
   "source": [
    "converter = tf.lite.TFLiteConverter.from_keras_model(q_aware_model)\n",
    "converter.optimizations = [tf.lite.Optimize.DEFAULT]\n",
    "\n",
    "tflite_qaware_model = converter.convert()"
   ]
  },
  {
   "cell_type": "code",
   "execution_count": 32,
   "metadata": {},
   "outputs": [
    {
     "data": {
      "text/plain": [
       "82736"
      ]
     },
     "execution_count": 32,
     "metadata": {},
     "output_type": "execute_result"
    }
   ],
   "source": [
    "len(tflite_qaware_model)"
   ]
  },
  {
   "cell_type": "code",
   "execution_count": 33,
   "metadata": {},
   "outputs": [
    {
     "name": "stdout",
     "output_type": "stream",
     "text": [
      "Data type of the TensorFlow Lite model: <class 'bytes'>\n"
     ]
    }
   ],
   "source": [
    "print(\"Data type of the TensorFlow Lite model:\", type(tflite_qaware_model))"
   ]
  },
  {
   "cell_type": "code",
   "execution_count": 34,
   "metadata": {},
   "outputs": [],
   "source": [
    "with open(\"tflite_qaware_model.tflite\", 'wb') as f:\n",
    "    f.write(tflite_qaware_model)"
   ]
  },
  {
   "cell_type": "code",
   "execution_count": 35,
   "metadata": {},
   "outputs": [
    {
     "name": "stdout",
     "output_type": "stream",
     "text": [
      "Input details:\n",
      "[{'name': 'serving_default_flatten_input:0', 'index': 0, 'shape': array([ 1, 28, 28]), 'shape_signature': array([-1, 28, 28]), 'dtype': <class 'numpy.float32'>, 'quantization': (0.0, 0), 'quantization_parameters': {'scales': array([], dtype=float32), 'zero_points': array([], dtype=int32), 'quantized_dimension': 0}, 'sparsity_parameters': {}}]\n",
      "\n",
      "Output details:\n",
      "[{'name': 'StatefulPartitionedCall:0', 'index': 11, 'shape': array([ 1, 10]), 'shape_signature': array([-1, 10]), 'dtype': <class 'numpy.float32'>, 'quantization': (0.0, 0), 'quantization_parameters': {'scales': array([], dtype=float32), 'zero_points': array([], dtype=int32), 'quantized_dimension': 0}, 'sparsity_parameters': {}}]\n"
     ]
    }
   ],
   "source": [
    "import tensorflow as tf\n",
    "\n",
    "# Load the TensorFlow Lite model\n",
    "interpreter = tf.lite.Interpreter(model_path=\"tflite_qaware_model.tflite\")\n",
    "interpreter.allocate_tensors()\n",
    "\n",
    "# Get input and output details\n",
    "input_details = interpreter.get_input_details()\n",
    "output_details = interpreter.get_output_details()\n",
    "\n",
    "print(\"Input details:\")\n",
    "print(input_details)\n",
    "\n",
    "print(\"\\nOutput details:\")\n",
    "print(output_details)\n",
    "\n",
    "# # Print the data types of input and output tensors\n",
    "# print(\"Input tensor data type:\", input_details[0]['dtype'])\n",
    "# print(\"Output tensor data type:\", output_details[-1]['dtype'])"
   ]
  },
  {
   "cell_type": "code",
   "execution_count": null,
   "metadata": {},
   "outputs": [],
   "source": []
  },
  {
   "cell_type": "code",
   "execution_count": null,
   "metadata": {},
   "outputs": [],
   "source": []
  }
 ],
 "metadata": {
  "kernelspec": {
   "display_name": "Python 3 (ipykernel)",
   "language": "python",
   "name": "python3"
  },
  "language_info": {
   "codemirror_mode": {
    "name": "ipython",
    "version": 3
   },
   "file_extension": ".py",
   "mimetype": "text/x-python",
   "name": "python",
   "nbconvert_exporter": "python",
   "pygments_lexer": "ipython3",
   "version": "3.9.18"
  }
 },
 "nbformat": 4,
 "nbformat_minor": 4
}
