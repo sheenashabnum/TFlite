{
 "cells": [
  {
   "cell_type": "markdown",
   "metadata": {
    "id": "qFdPvlXBOdUN"
   },
   "source": [
    "# Quantization aware training in Keras example"
   ]
  },
  {
   "cell_type": "markdown",
   "metadata": {
    "id": "Bjmi3qZeu_xk"
   },
   "source": [
    "## Overview\n",
    "\n",
    "Welcome to an end-to-end example for *quantization aware training*.\n",
    "\n",
    "### Other pages\n",
    "For an introduction to what quantization aware training is and to determine if you should use it (including what's supported), see the [overview page](https://www.tensorflow.org/model_optimization/guide/quantization/training.md).\n",
    "\n",
    "To quickly find the APIs you need for your use case (beyond fully-quantizing a model with 8-bits), see the\n",
    "[comprehensive guide](https://www.tensorflow.org/model_optimization/guide/quantization/training_comprehensive_guide.md).\n",
    "\n",
    "### Summary\n",
    "\n",
    "In this tutorial, you will:\n",
    "\n",
    "1.   Train a `tf.keras` model for MNIST from scratch.\n",
    "2.   Fine tune the model by applying the quantization aware training API, see the accuracy, and\n",
    "     export a quantization aware model.\n",
    "3.   Use the model to create an actually quantized model for the TFLite\n",
    "     backend.\n",
    "4.   See the persistence of accuracy in\n",
    "     TFLite and a 4x smaller model. To see the latency benefits on mobile, try out the TFLite examples [in the TFLite app repository](https://www.tensorflow.org/lite/models)."
   ]
  },
  {
   "cell_type": "markdown",
   "metadata": {
    "id": "yEAZYXvZU_XG"
   },
   "source": [
    "## Setup"
   ]
  },
  {
   "cell_type": "code",
   "execution_count": null,
   "metadata": {
    "id": "zN4yVFK5-0Bf"
   },
   "outputs": [],
   "source": [
    "# ! pip install -q tensorflow\n",
    "# ! pip install -q tensorflow-model-optimization\n"
   ]
  },
  {
   "cell_type": "code",
   "execution_count": 1,
   "metadata": {
    "id": "yJwIonXEVJo6"
   },
   "outputs": [],
   "source": [
    "import tempfile\n",
    "import os\n",
    "\n",
    "import tensorflow as tf\n",
    "\n",
    "from tensorflow import keras"
   ]
  },
  {
   "cell_type": "markdown",
   "metadata": {
    "id": "psViY5PRDurp"
   },
   "source": [
    "## Train a model for MNIST without quantization aware training"
   ]
  },
  {
   "cell_type": "code",
   "execution_count": 2,
   "metadata": {
    "id": "pbY-KGMPvbW9"
   },
   "outputs": [
    {
     "name": "stdout",
     "output_type": "stream",
     "text": [
      "Model: \"sequential\"\n",
      "_________________________________________________________________\n",
      " Layer (type)                Output Shape              Param #   \n",
      "=================================================================\n",
      " reshape (Reshape)           (None, 28, 28, 1)         0         \n",
      "                                                                 \n",
      " conv2d (Conv2D)             (None, 26, 26, 12)        120       \n",
      "                                                                 \n",
      " max_pooling2d (MaxPooling2D  (None, 13, 13, 12)       0         \n",
      " )                                                               \n",
      "                                                                 \n",
      " flatten (Flatten)           (None, 2028)              0         \n",
      "                                                                 \n",
      " dense (Dense)               (None, 10)                20290     \n",
      "                                                                 \n",
      "=================================================================\n",
      "Total params: 20,410\n",
      "Trainable params: 20,410\n",
      "Non-trainable params: 0\n",
      "_________________________________________________________________\n",
      "1688/1688 [==============================] - 9s 5ms/step - loss: 0.2820 - accuracy: 0.9219 - val_loss: 0.1060 - val_accuracy: 0.9723\n"
     ]
    }
   ],
   "source": [
    "# Load MNIST dataset\n",
    "mnist = keras.datasets.mnist\n",
    "(train_images, train_labels), (test_images, test_labels) = mnist.load_data()\n",
    "\n",
    "# Normalize the input image so that each pixel value is between 0 to 1.\n",
    "train_images = train_images / 255.0\n",
    "test_images = test_images / 255.0\n",
    "\n",
    "# Define the model architecture.\n",
    "model = keras.Sequential([\n",
    "  keras.layers.InputLayer(input_shape=(28, 28)),\n",
    "  keras.layers.Reshape(target_shape=(28, 28, 1)),\n",
    "  keras.layers.Conv2D(filters=12, kernel_size=(3, 3), activation='relu'),\n",
    "  keras.layers.MaxPooling2D(pool_size=(2, 2)),\n",
    "  keras.layers.Flatten(),\n",
    "  keras.layers.Dense(10)\n",
    "])\n",
    "\n",
    "model.summary()\n",
    "\n",
    "# Train the digit classification model\n",
    "model.compile(optimizer='adam',\n",
    "              loss=tf.keras.losses.SparseCategoricalCrossentropy(from_logits=True),\n",
    "              metrics=['accuracy'])\n",
    "\n",
    "model.fit(\n",
    "  train_images,\n",
    "  train_labels,\n",
    "  epochs=1,\n",
    "  validation_split=0.1,\n",
    ")\n",
    "\n",
    "model.save(\"tf_model.h5\")"
   ]
  },
  {
   "cell_type": "code",
   "execution_count": 10,
   "metadata": {},
   "outputs": [
    {
     "data": {
      "text/plain": [
       "[array([[[[-0.45643595,  0.2089    ,  0.29132396,  0.7581083 ,\n",
       "            0.17155807, -0.34782812,  0.0736233 , -0.71295077,\n",
       "            0.13690768, -0.41616172,  0.12428223,  0.2376009 ]],\n",
       " \n",
       "         [[-0.11969946,  0.44221583,  0.23892365, -0.07182363,\n",
       "            0.25695345,  0.22321887,  0.10940634, -0.6417914 ,\n",
       "            0.14003332, -0.16148347,  0.31140175,  0.31671897]],\n",
       " \n",
       "         [[ 0.1991883 ,  0.5577426 , -0.09308445, -0.55222845,\n",
       "           -0.02632828,  0.20184901,  0.14755766, -0.45000005,\n",
       "           -0.01966464,  0.41319415,  0.1916378 , -0.25791535]]],\n",
       " \n",
       " \n",
       "        [[[-0.13957845,  0.23353545,  0.22361813,  0.03748423,\n",
       "            0.3175359 , -0.4381458 ,  0.13259628,  0.0812076 ,\n",
       "            0.01900117, -0.40254873,  0.285555  ,  0.06350007]],\n",
       " \n",
       "         [[ 0.07650129,  0.21031287, -0.03805352, -1.0033306 ,\n",
       "            0.2861028 , -0.11202397,  0.2521077 ,  0.2682261 ,\n",
       "            0.20861635, -0.07898667, -0.03679642,  0.02125458]],\n",
       " \n",
       "         [[ 0.35245678,  0.19230269,  0.16380389,  0.11544009,\n",
       "            0.02425906,  0.4936422 , -0.07613245, -0.17413813,\n",
       "            0.1626451 ,  0.46842706, -0.08310767, -0.04944896]]],\n",
       " \n",
       " \n",
       "        [[[ 0.16937642, -0.7398161 , -0.00301297, -0.552923  ,\n",
       "            0.11532541, -0.3628765 , -0.30094138,  0.21081667,\n",
       "            0.15793008, -0.5225634 , -0.27582955,  0.19506277]],\n",
       " \n",
       "         [[ 0.05518519, -0.7360974 ,  0.04292401,  0.10876757,\n",
       "            0.16837288, -0.1422785 , -0.02201959,  0.41360193,\n",
       "           -0.05080693, -0.03809059,  0.00541587,  0.20169191]],\n",
       " \n",
       "         [[ 0.1358698 , -0.5922235 ,  0.178802  ,  0.49706438,\n",
       "            0.03655961,  0.33455753,  0.27798057,  0.19599953,\n",
       "           -0.16216761,  0.48864326,  0.30361164, -0.14070112]]]],\n",
       "       dtype=float32),\n",
       " array([-0.04554176,  0.0371084 , -0.05335637,  0.07322019, -0.05031876,\n",
       "        -0.00436926, -0.04759573,  0.16706398, -0.00406635, -0.01165237,\n",
       "        -0.03447232, -0.05112714], dtype=float32),\n",
       " array([[ 0.01279787,  0.03267823, -0.02292691, ...,  0.04326575,\n",
       "         -0.00886152,  0.01306985],\n",
       "        [-0.03431068,  0.11693059, -0.02486141, ...,  0.01051605,\n",
       "         -0.04964295,  0.01967431],\n",
       "        [-0.01486788,  0.09604023,  0.02250534, ..., -0.03282779,\n",
       "         -0.04697905, -0.05228906],\n",
       "        ...,\n",
       "        [-0.06176313,  0.05234071,  0.00587831, ...,  0.04717416,\n",
       "          0.00191037, -0.00922256],\n",
       "        [-0.04894363,  0.01785612, -0.01270673, ..., -0.02178252,\n",
       "         -0.1171715 , -0.0849423 ],\n",
       "        [-0.04921174,  0.07969548,  0.04122493, ..., -0.12382533,\n",
       "         -0.05059435, -0.02673124]], dtype=float32),\n",
       " array([-0.00513464,  0.07911707, -0.00160378, -0.02823916,  0.00761488,\n",
       "         0.03190508, -0.01278549,  0.04233275, -0.07080904, -0.02512588],\n",
       "       dtype=float32)]"
      ]
     },
     "execution_count": 10,
     "metadata": {},
     "output_type": "execute_result"
    }
   ],
   "source": [
    "model.get_weights()"
   ]
  },
  {
   "cell_type": "code",
   "execution_count": 3,
   "metadata": {},
   "outputs": [
    {
     "data": {
      "text/plain": [
       "dtype('float32')"
      ]
     },
     "execution_count": 3,
     "metadata": {},
     "output_type": "execute_result"
    }
   ],
   "source": [
    "model.get_weights()[0].dtype"
   ]
  },
  {
   "cell_type": "markdown",
   "metadata": {
    "id": "K8747K9OE72P"
   },
   "source": [
    "## Clone and fine-tune pre-trained model with quantization aware training\n"
   ]
  },
  {
   "cell_type": "markdown",
   "metadata": {
    "id": "F19k7ExXF_h2"
   },
   "source": [
    "### Define the model"
   ]
  },
  {
   "cell_type": "markdown",
   "metadata": {
    "id": "JsZROpNYMWQ0"
   },
   "source": [
    "You will apply quantization aware training to the whole model and see this in the model summary. All layers are now prefixed by \"quant\".\n",
    "\n",
    "Note that the resulting model is quantization aware but not quantized (e.g. the weights are float32 instead of int8). The sections after show how to create a quantized model from the quantization aware one.\n",
    "\n",
    "In the [comprehensive guide](https://www.tensorflow.org/model_optimization/guide/quantization/training_comprehensive_guide.md), you can see how to quantize some layers for model accuracy improvements."
   ]
  },
  {
   "cell_type": "code",
   "execution_count": 4,
   "metadata": {
    "id": "oq6blGjgFDCW"
   },
   "outputs": [
    {
     "name": "stdout",
     "output_type": "stream",
     "text": [
      "Model: \"sequential\"\n",
      "_________________________________________________________________\n",
      " Layer (type)                Output Shape              Param #   \n",
      "=================================================================\n",
      " quantize_layer (QuantizeLay  (None, 28, 28)           3         \n",
      " er)                                                             \n",
      "                                                                 \n",
      " quant_reshape (QuantizeWrap  (None, 28, 28, 1)        1         \n",
      " perV2)                                                          \n",
      "                                                                 \n",
      " quant_conv2d (QuantizeWrapp  (None, 26, 26, 12)       147       \n",
      " erV2)                                                           \n",
      "                                                                 \n",
      " quant_max_pooling2d (Quanti  (None, 13, 13, 12)       1         \n",
      " zeWrapperV2)                                                    \n",
      "                                                                 \n",
      " quant_flatten (QuantizeWrap  (None, 2028)             1         \n",
      " perV2)                                                          \n",
      "                                                                 \n",
      " quant_dense (QuantizeWrappe  (None, 10)               20295     \n",
      " rV2)                                                            \n",
      "                                                                 \n",
      "=================================================================\n",
      "Total params: 20,448\n",
      "Trainable params: 20,410\n",
      "Non-trainable params: 38\n",
      "_________________________________________________________________\n",
      "1688/1688 [==============================] - 11s 6ms/step - loss: 0.1072 - accuracy: 0.9693 - val_loss: 0.0806 - val_accuracy: 0.9772\n"
     ]
    },
    {
     "data": {
      "text/plain": [
       "<keras.callbacks.History at 0x26720424af0>"
      ]
     },
     "execution_count": 4,
     "metadata": {},
     "output_type": "execute_result"
    }
   ],
   "source": [
    "import tensorflow_model_optimization as tfmot\n",
    "\n",
    "quantize_model = tfmot.quantization.keras.quantize_model\n",
    "\n",
    "# q_aware stands for for quantization aware.\n",
    "q_aware_model = quantize_model(model)\n",
    "\n",
    "# `quantize_model` requires a recompile.\n",
    "q_aware_model.compile(optimizer='adam',\n",
    "              loss=tf.keras.losses.SparseCategoricalCrossentropy(from_logits=True),\n",
    "              metrics=['accuracy'])\n",
    "\n",
    "q_aware_model.summary()\n",
    "\n",
    "q_aware_model.fit(\n",
    "  train_images,\n",
    "  train_labels,\n",
    "  epochs=1,\n",
    "  validation_split=0.1,\n",
    ")"
   ]
  },
  {
   "cell_type": "code",
   "execution_count": 5,
   "metadata": {},
   "outputs": [
    {
     "data": {
      "text/plain": [
       "dtype('float32')"
      ]
     },
     "execution_count": 5,
     "metadata": {},
     "output_type": "execute_result"
    }
   ],
   "source": [
    "q_aware_model.get_weights()[0].dtype"
   ]
  },
  {
   "cell_type": "code",
   "execution_count": 8,
   "metadata": {},
   "outputs": [
    {
     "data": {
      "text/plain": [
       "[0.0,\n",
       " 1.0,\n",
       " -1,\n",
       " -1,\n",
       " array([[[[-0.51718473,  0.24837793,  0.25961477,  0.9694432 ,\n",
       "            0.08281811, -0.3752423 ,  0.08553067, -0.9541065 ,\n",
       "            0.03805856, -0.5703281 ,  0.10953508,  0.22723937]],\n",
       " \n",
       "         [[-0.17616847,  0.55188763,  0.21173711, -0.04820147,\n",
       "            0.19499797,  0.28354636,  0.1086151 , -0.8290946 ,\n",
       "            0.07159813, -0.22359979,  0.30912206,  0.26699123]],\n",
       " \n",
       "         [[ 0.20352145,  0.6717498 , -0.19214942, -0.68250835,\n",
       "           -0.05543458,  0.2532837 ,  0.05855025, -0.6383301 ,\n",
       "           -0.04199731,  0.46623805,  0.17037733, -0.48012108]]],\n",
       " \n",
       " \n",
       "        [[[-0.19410239,  0.22725362,  0.18127665,  0.02171465,\n",
       "            0.26567283, -0.57478637,  0.1401248 ,  0.12441295,\n",
       "           -0.02790124, -0.5608845 ,  0.29290462,  0.09859674]],\n",
       " \n",
       "         [[ 0.1147846 ,  0.26633185, -0.04135625, -1.4320173 ,\n",
       "            0.2780914 , -0.10750402,  0.2711366 ,  0.31726724,\n",
       "            0.21837588, -0.08580681, -0.02779168, -0.00805498]],\n",
       " \n",
       "         [[ 0.38777533,  0.26077896,  0.14265531,  0.09460375,\n",
       "            0.01776809,  0.56710696, -0.09360372, -0.20912862,\n",
       "            0.17225818,  0.56103987, -0.0800579 , -0.24724083]]],\n",
       " \n",
       " \n",
       "        [[[ 0.176823  , -0.924098  , -0.07567255, -0.7164364 ,\n",
       "            0.03676654, -0.48004603, -0.39296678,  0.32020694,\n",
       "            0.13801768, -0.63979614, -0.3440268 ,  0.21896487]],\n",
       " \n",
       "         [[ 0.09413672, -0.9233424 ,  0.0456455 ,  0.07818146,\n",
       "            0.13965456, -0.1875849 , -0.06138229,  0.4952686 ,\n",
       "           -0.0521481 , -0.03502965, -0.0258209 ,  0.20938836]],\n",
       " \n",
       "         [[ 0.10172816, -0.69617474,  0.21074182,  0.652585  ,\n",
       "            0.0492676 ,  0.3657218 ,  0.27678195,  0.25300524,\n",
       "           -0.17235895,  0.54816735,  0.31675208, -0.2024511 ]]]],\n",
       "       dtype=float32),\n",
       " array([-0.11089231, -0.00365966, -0.12471028,  0.09606472, -0.09554426,\n",
       "        -0.02931954, -0.12624215,  0.20415471, -0.04025558, -0.02901673,\n",
       "        -0.08078939, -0.08731982], dtype=float32),\n",
       " -1,\n",
       " array([-0.5171621 , -0.9242455 , -0.26012027, -1.4320585 , -0.27870756,\n",
       "        -0.574334  , -0.3927757 , -0.95405805, -0.21885413, -0.6394739 ,\n",
       "        -0.34404415, -0.47961873], dtype=float32),\n",
       " array([0.5171621 , 0.9242455 , 0.26012027, 1.4320585 , 0.27870756,\n",
       "        0.574334  , 0.3927757 , 0.95405805, 0.21885413, 0.6394739 ,\n",
       "        0.34404415, 0.47961873], dtype=float32),\n",
       " -1.1083962,\n",
       " 2.8627927,\n",
       " -1,\n",
       " -1,\n",
       " array([[ 0.02967771,  0.03267774, -0.02967268, ...,  0.03496697,\n",
       "         -0.01272   ,  0.00321391],\n",
       "        [-0.01948442,  0.14690365, -0.03178642, ...,  0.01511876,\n",
       "         -0.06393959,  0.02861576],\n",
       "        [-0.0148958 ,  0.09604002,  0.02248594, ..., -0.03282779,\n",
       "         -0.04701252, -0.05249428],\n",
       "        ...,\n",
       "        [-0.06176893,  0.05212193,  0.03224875, ...,  0.04674217,\n",
       "         -0.02052982, -0.0347896 ],\n",
       "        [-0.06848303, -0.00955544,  0.01944862, ..., -0.07457726,\n",
       "         -0.18438186, -0.1063522 ],\n",
       "        [-0.06556731,  0.04032433,  0.08507955, ..., -0.17806165,\n",
       "         -0.11157187, -0.04146274]], dtype=float32),\n",
       " array([ 0.00603397,  0.12426722, -0.00229641, -0.03789345, -0.01050709,\n",
       "         0.04759181, -0.00924565,  0.059391  , -0.11029605, -0.03278632],\n",
       "       dtype=float32),\n",
       " -1,\n",
       " -0.7855342,\n",
       " 0.7855342,\n",
       " -18.169456,\n",
       " 7.303119]"
      ]
     },
     "execution_count": 8,
     "metadata": {},
     "output_type": "execute_result"
    }
   ],
   "source": [
    "q_aware_model.get_weights()"
   ]
  },
  {
   "cell_type": "code",
   "execution_count": 11,
   "metadata": {},
   "outputs": [],
   "source": [
    "q_aware_model.save(\"q_aware_model.h5\")"
   ]
  },
  {
   "cell_type": "markdown",
   "metadata": {
    "id": "uDr2ijwpGCI-"
   },
   "source": [
    "### Train and evaluate the model against baseline"
   ]
  },
  {
   "cell_type": "markdown",
   "metadata": {
    "id": "XUBEn94hXYB1"
   },
   "source": [
    "To demonstrate fine tuning after training the model for just an epoch, fine tune with quantization aware training on a subset of the training data."
   ]
  },
  {
   "cell_type": "code",
   "execution_count": 12,
   "metadata": {
    "id": "_PHDGJryE31X"
   },
   "outputs": [
    {
     "name": "stdout",
     "output_type": "stream",
     "text": [
      "2/2 [==============================] - 0s 118ms/step - loss: 0.0830 - accuracy: 0.9756 - val_loss: 0.1065 - val_accuracy: 0.9700\n"
     ]
    },
    {
     "data": {
      "text/plain": [
       "<keras.callbacks.History at 0x26707190520>"
      ]
     },
     "execution_count": 12,
     "metadata": {},
     "output_type": "execute_result"
    }
   ],
   "source": [
    "train_images_subset = train_images[0:1000] # out of 60000\n",
    "train_labels_subset = train_labels[0:1000]\n",
    "\n",
    "q_aware_model.fit(train_images_subset, train_labels_subset,\n",
    "                  batch_size=500, epochs=1, validation_split=0.1)"
   ]
  },
  {
   "cell_type": "markdown",
   "metadata": {
    "id": "-byC2lYlMkfN"
   },
   "source": [
    "For this example, there is minimal to no loss in test accuracy after quantization aware training, compared to the baseline."
   ]
  },
  {
   "cell_type": "code",
   "execution_count": 13,
   "metadata": {
    "id": "6bMFTKSSHyyZ"
   },
   "outputs": [
    {
     "name": "stdout",
     "output_type": "stream",
     "text": [
      "Baseline test accuracy: 0.9671000242233276\n",
      "Quant test accuracy: 0.9732000231742859\n"
     ]
    }
   ],
   "source": [
    "_, baseline_model_accuracy = model.evaluate(\n",
    "    test_images, test_labels, verbose=0)\n",
    "\n",
    "_, q_aware_model_accuracy = q_aware_model.evaluate(\n",
    "   test_images, test_labels, verbose=0)\n",
    "\n",
    "print('Baseline test accuracy:', baseline_model_accuracy)\n",
    "print('Quant test accuracy:', q_aware_model_accuracy)"
   ]
  },
  {
   "cell_type": "markdown",
   "metadata": {
    "id": "2IepmUPSITn6"
   },
   "source": [
    "## Create quantized model for TFLite backend"
   ]
  },
  {
   "cell_type": "markdown",
   "metadata": {
    "id": "1FgNP4rbOLH8"
   },
   "source": [
    "After this, you have an actually quantized model with int8 weights and uint8 activations."
   ]
  },
  {
   "cell_type": "code",
   "execution_count": 14,
   "metadata": {
    "id": "w7fztWsAOHTz"
   },
   "outputs": [
    {
     "name": "stderr",
     "output_type": "stream",
     "text": [
      "WARNING:absl:Found untraced functions such as reshape_layer_call_fn, reshape_layer_call_and_return_conditional_losses, conv2d_layer_call_fn, conv2d_layer_call_and_return_conditional_losses, _jit_compiled_convolution_op while saving (showing 5 of 9). These functions will not be directly callable after loading.\n"
     ]
    },
    {
     "name": "stdout",
     "output_type": "stream",
     "text": [
      "INFO:tensorflow:Assets written to: C:\\Users\\Sheena\\AppData\\Local\\Temp\\tmptk3ayvlq\\assets\n"
     ]
    },
    {
     "name": "stderr",
     "output_type": "stream",
     "text": [
      "INFO:tensorflow:Assets written to: C:\\Users\\Sheena\\AppData\\Local\\Temp\\tmptk3ayvlq\\assets\n",
      "C:\\Users\\Sheena\\anaconda3\\envs\\q\\lib\\site-packages\\tensorflow\\lite\\python\\convert.py:766: UserWarning: Statistics for quantized inputs were expected, but not specified; continuing anyway.\n",
      "  warnings.warn(\"Statistics for quantized inputs were expected, but not \"\n"
     ]
    }
   ],
   "source": [
    "converter = tf.lite.TFLiteConverter.from_keras_model(q_aware_model)\n",
    "converter.optimizations = [tf.lite.Optimize.DEFAULT]\n",
    "\n",
    "quantized_tflite_model = converter.convert()"
   ]
  },
  {
   "cell_type": "code",
   "execution_count": 17,
   "metadata": {},
   "outputs": [
    {
     "name": "stdout",
     "output_type": "stream",
     "text": [
      "Input details:\n",
      "[{'name': 'serving_default_input_1:0', 'index': 0, 'shape': array([ 1, 28, 28]), 'shape_signature': array([-1, 28, 28]), 'dtype': <class 'numpy.float32'>, 'quantization': (0.0, 0), 'quantization_parameters': {'scales': array([], dtype=float32), 'zero_points': array([], dtype=int32), 'quantized_dimension': 0}, 'sparsity_parameters': {}}]\n",
      "\n",
      "Output details:\n",
      "[{'name': 'StatefulPartitionedCall:0', 'index': 19, 'shape': array([ 1, 10]), 'shape_signature': array([-1, 10]), 'dtype': <class 'numpy.float32'>, 'quantization': (0.0, 0), 'quantization_parameters': {'scales': array([], dtype=float32), 'zero_points': array([], dtype=int32), 'quantized_dimension': 0}, 'sparsity_parameters': {}}]\n"
     ]
    }
   ],
   "source": [
    "\n",
    "interpreter = tf.lite.Interpreter(model_content=quantized_tflite_model)\n",
    "interpreter.allocate_tensors()\n",
    "\n",
    "input_details = interpreter.get_input_details()\n",
    "output_details = interpreter.get_output_details()\n",
    "\n",
    "print(\"Input details:\")\n",
    "print(input_details)\n",
    "\n",
    "print(\"\\nOutput details:\")\n",
    "print(output_details)"
   ]
  },
  {
   "cell_type": "markdown",
   "metadata": {
    "id": "BEYsyYVqNgeY"
   },
   "source": [
    "## See persistence of accuracy from TF to TFLite"
   ]
  },
  {
   "cell_type": "markdown",
   "metadata": {
    "id": "saadXD4JQsBK"
   },
   "source": [
    "Define a helper function to evaluate the TF Lite model on the test dataset."
   ]
  },
  {
   "cell_type": "code",
   "execution_count": 18,
   "metadata": {
    "id": "b8yBouuGNqls"
   },
   "outputs": [],
   "source": [
    "import numpy as np\n",
    "\n",
    "def evaluate_model(interpreter):\n",
    "  input_index = interpreter.get_input_details()[0][\"index\"]\n",
    "  output_index = interpreter.get_output_details()[0][\"index\"]\n",
    "\n",
    "  # Run predictions on every image in the \"test\" dataset.\n",
    "  prediction_digits = []\n",
    "  for i, test_image in enumerate(test_images):\n",
    "    if i % 1000 == 0:\n",
    "      print('Evaluated on {n} results so far.'.format(n=i))\n",
    "    # Pre-processing: add batch dimension and convert to float32 to match with\n",
    "    # the model's input data format.\n",
    "    test_image = np.expand_dims(test_image, axis=0).astype(np.float32)\n",
    "    interpreter.set_tensor(input_index, test_image)\n",
    "\n",
    "    # Run inference.\n",
    "    interpreter.invoke()\n",
    "\n",
    "    # Post-processing: remove batch dimension and find the digit with highest\n",
    "    # probability.\n",
    "    output = interpreter.tensor(output_index)\n",
    "    digit = np.argmax(output()[0])\n",
    "    prediction_digits.append(digit)\n",
    "\n",
    "  print('\\n')\n",
    "  # Compare prediction results with ground truth labels to calculate accuracy.\n",
    "  prediction_digits = np.array(prediction_digits)\n",
    "  accuracy = (prediction_digits == test_labels).mean()\n",
    "  return accuracy"
   ]
  },
  {
   "cell_type": "markdown",
   "metadata": {
    "id": "TuEFS4CIQvUw"
   },
   "source": [
    "You evaluate the quantized model and see that the accuracy from TensorFlow persists to the TFLite backend."
   ]
  },
  {
   "cell_type": "code",
   "execution_count": 19,
   "metadata": {
    "id": "VqQTyqz4NsWd"
   },
   "outputs": [
    {
     "name": "stdout",
     "output_type": "stream",
     "text": [
      "Evaluated on 0 results so far.\n",
      "Evaluated on 1000 results so far.\n",
      "Evaluated on 2000 results so far.\n",
      "Evaluated on 3000 results so far.\n",
      "Evaluated on 4000 results so far.\n",
      "Evaluated on 5000 results so far.\n",
      "Evaluated on 6000 results so far.\n",
      "Evaluated on 7000 results so far.\n",
      "Evaluated on 8000 results so far.\n",
      "Evaluated on 9000 results so far.\n",
      "\n",
      "\n",
      "Quant TFLite test_accuracy: 0.9732\n",
      "Quant TF test accuracy: 0.9732000231742859\n"
     ]
    }
   ],
   "source": [
    "interpreter = tf.lite.Interpreter(model_content=quantized_tflite_model)\n",
    "interpreter.allocate_tensors()\n",
    "\n",
    "test_accuracy = evaluate_model(interpreter)\n",
    "\n",
    "print('Quant TFLite test_accuracy:', test_accuracy)\n",
    "print('Quant TF test accuracy:', q_aware_model_accuracy)"
   ]
  },
  {
   "cell_type": "markdown",
   "metadata": {
    "id": "z8D7WnFF5DZR"
   },
   "source": [
    "## See 4x smaller model from quantization"
   ]
  },
  {
   "cell_type": "markdown",
   "metadata": {
    "id": "I1c2IecBRCdQ"
   },
   "source": [
    "You create a float TFLite model and then see that the quantized TFLite model\n",
    "is 4x smaller."
   ]
  },
  {
   "cell_type": "code",
   "execution_count": 20,
   "metadata": {
    "id": "jy_Lgfh8VkyX"
   },
   "outputs": [
    {
     "name": "stderr",
     "output_type": "stream",
     "text": [
      "WARNING:absl:Found untraced functions such as _jit_compiled_convolution_op while saving (showing 1 of 1). These functions will not be directly callable after loading.\n"
     ]
    },
    {
     "name": "stdout",
     "output_type": "stream",
     "text": [
      "INFO:tensorflow:Assets written to: C:\\Users\\Sheena\\AppData\\Local\\Temp\\tmpx4ssk58r\\assets\n"
     ]
    },
    {
     "name": "stderr",
     "output_type": "stream",
     "text": [
      "INFO:tensorflow:Assets written to: C:\\Users\\Sheena\\AppData\\Local\\Temp\\tmpx4ssk58r\\assets\n"
     ]
    },
    {
     "name": "stdout",
     "output_type": "stream",
     "text": [
      "Float model in Mb: 0.08089065551757812\n",
      "Quantized model in Mb: 0.0238037109375\n"
     ]
    }
   ],
   "source": [
    "# Create float TFLite model.\n",
    "float_converter = tf.lite.TFLiteConverter.from_keras_model(model)\n",
    "float_tflite_model = float_converter.convert()\n",
    "\n",
    "# Measure sizes of models.\n",
    "_, float_file = tempfile.mkstemp('.tflite')\n",
    "_, quant_file = tempfile.mkstemp('.tflite')\n",
    "\n",
    "with open(quant_file, 'wb') as f:\n",
    "  f.write(quantized_tflite_model)\n",
    "\n",
    "with open(float_file, 'wb') as f:\n",
    "  f.write(float_tflite_model)\n",
    "\n",
    "print(\"Float model in Mb:\", os.path.getsize(float_file) / float(2**20))\n",
    "print(\"Quantized model in Mb:\", os.path.getsize(quant_file) / float(2**20))"
   ]
  },
  {
   "cell_type": "markdown",
   "metadata": {
    "id": "0O5xuci-SonI"
   },
   "source": [
    "## Conclusion"
   ]
  },
  {
   "cell_type": "markdown",
   "metadata": {
    "id": "O2I7xmyMW5QY"
   },
   "source": [
    "In this tutorial, you saw how to create quantization aware models with the TensorFlow Model Optimization Toolkit API and then quantized models for the TFLite backend.\n",
    "\n",
    "You saw a 4x model size compression benefit for a model for MNIST, with minimal accuracy\n",
    "difference. To see the latency benefits on mobile, try out the TFLite examples [in the TFLite app repository](https://www.tensorflow.org/lite/models).\n",
    "\n",
    "We encourage you to try this new capability, which can be particularly important for deployment in resource-constrained environments. \n"
   ]
  }
 ],
 "metadata": {
  "accelerator": "GPU",
  "colab": {
   "collapsed_sections": [],
   "name": "training_example.ipynb",
   "toc_visible": true
  },
  "kernelspec": {
   "display_name": "Python 3 (ipykernel)",
   "language": "python",
   "name": "python3"
  },
  "language_info": {
   "codemirror_mode": {
    "name": "ipython",
    "version": 3
   },
   "file_extension": ".py",
   "mimetype": "text/x-python",
   "name": "python",
   "nbconvert_exporter": "python",
   "pygments_lexer": "ipython3",
   "version": "3.9.18"
  }
 },
 "nbformat": 4,
 "nbformat_minor": 4
}
